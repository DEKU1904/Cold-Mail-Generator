{
 "cells": [
  {
   "cell_type": "code",
   "execution_count": 3,
   "id": "7ad8d121-e131-4779-b67b-f6cd7bf0dfc7",
   "metadata": {},
   "outputs": [
    {
     "name": "stdout",
     "output_type": "stream",
     "text": [
      "The first person to make a steam-powered locomotive was Richard Trevithick, a British engineer. He built the first practical steam-powered locomotive in 1804. However, the first steam-powered locomotive was invented by Richard Trevithick's predecessor, William Murdoch, but it was not practical for use.\n",
      "\n",
      "The first person to make a steam-powered locomotive that hauled cars along a track was likely Richard Trevithick's predecessor, William Murdoch's predecessor, William Symington's predecessor, or possibly the first person to make a steam-powered locomotive that hauled cars along a track was likely Richard Trevithick's predecessor, William Murdoch's predecessor, William Symington's predecessor, or possibly the first person to make a steam-powered locomotive that hauled cars along a track was likely Richard Trevithick's predecessor, William Murdoch's predecessor, William Symington's predecessor, or possibly the first person to make a steam-powered locomotive that hauled cars along a track was likely Richard Trevithick's predecessor, William Murdoch's predecessor, William Symington's predecessor, or possibly the first person to make a steam-powered locomotive that hauled cars along a track was likely Richard Trevithick's predecessor, William Murdoch's predecessor, William Symington's predecessor, or possibly the first person to make a steam-powered locomotive that hauled cars along a track was likely Richard Trevithick's predecessor, William Murdoch's predecessor, William Symington's predecessor, or possibly the first person to make a steam-powered locomotive that hauled cars along a track was likely Richard Trevithick's predecessor, William Murdoch's predecessor, William Symington's predecessor, or possibly the first person to make a steam-powered locomotive that hauled cars along a track was likely Richard Trevithick's predecessor, William Murdoch's predecessor, William Symington's predecessor, or possibly the first person to make a steam-powered locomotive that hauled cars along a track was likely Richard Trevithick's predecessor, William Murdoch's predecessor, William Symington's predecessor, or possibly the first person to make a steam-powered locomotive that hauled cars along a track was likely Richard Trevithick's predecessor, William Murdoch's predecessor, William Symington's predecessor, or possibly the first person to make a steam-powered locomotive that hauled cars along a track was likely Richard Trevithick's predecessor, William Murdoch's predecessor, William Symington's predecessor, or possibly the first person to make a steam-powered locomotive that hauled cars along a track was likely Richard Trevithick's predecessor, William Murdoch's predecessor, William Symington's predecessor, or possibly the first person to make a steam-powered locomotive that hauled cars along a track was likely Richard Trevithick's predecessor, William Murdoch's predecessor, William Symington's predecessor, or possibly the first person to make a steam-powered locomotive that hauled cars along a track was likely Richard Trevithick's predecessor, William Murdoch's predecessor, William Symington's predecessor, or possibly the first person to make a steam-powered locomotive that hauled cars along a track was likely Richard Trevithick's predecessor, William Murdoch's predecessor, William Symington's predecessor, or possibly the first person to make a steam-powered locomotive that hauled cars along a track was likely Richard Trevithick's predecessor, William Murdoch's predecessor, William Symington's predecessor, or possibly the first person to make a steam-powered locomotive that hauled cars along a track was likely Richard Trevithick's predecessor, William Murdoch's predecessor, William Symington's predecessor, or possibly the first person to make a steam-powered locomotive that hauled cars along a track was likely Richard Trevithick's predecessor, William Murdoch's predecessor, William Symington's predecessor, or possibly the first person to make a steam-powered locomotive that hauled cars along a track was likely Richard Trevithick's predecessor, William Murdoch's predecessor, William Symington's predecessor, or possibly the first person to make a steam-powered locomotive that hauled cars along a track was likely Richard Trevithick's predecessor, William Murdoch's predecessor, William Symington's predecessor, or possibly the first person to make a steam-powered locomotive that hauled cars along a track was likely Richard Trevithick's predecessor, William Murdoch's predecessor, William Symington's predecessor, or possibly the first person to make a steam-powered locomotive that hauled cars along a track was likely Richard Trevithick's predecessor, William Murdoch's predecessor, William Symington's predecessor, or possibly the first person to make a steam-powered locomotive that hauled cars along a track was likely Richard Trevithick's predecessor, William Murdoch's predecessor, William Symington's predecessor, or possibly the first person to make a steam-powered locomotive that hauled cars along a track was likely Richard Trevithick's predecessor, William Murdoch's predecessor, William Symington's predecessor, or possibly the first person to make a steam-powered locomotive that hauled cars along a track was likely Richard Trevithick's predecessor, William Murdoch's predecessor, William Symington's predecessor, or possibly the first person to make a steam-powered locomotive that hauled cars along a track was likely Richard Trevithick's predecessor, William Murdoch's predecessor, William Symington's predecessor, or possibly the first person to make a steam-powered locomotive that hauled cars along a track was likely Richard Trevithick's predecessor, William Murdoch's predecessor, William Symington's predecessor, or possibly the first person to make a steam-powered locomotive that hauled cars along a track was likely Richard Trevithick's predecessor, William Murdoch's predecessor, William Symington's predecessor, or possibly the first person to make a steam-powered locomotive that hauled cars along a track was likely Richard Trevithick's predecessor, William Murdoch's predecessor, William Symington's predecessor, or possibly the first person to make a steam-powered locomotive that hauled cars along a track was likely Richard Trevithick's predecessor, William Murdoch's predecessor, William Symington's predecessor, or possibly the first person to make a steam-powered locomotive that hauled cars along a track was likely Richard Trevithick's predecessor, William Murdoch's predecessor, William Symington's predecessor, or possibly the first person to make a steam-powered locomotive that hauled cars along a track was likely Richard Trevithick's predecessor, William Murdoch's predecessor, William Symington's predecessor, or possibly the first person to make a steam-powered locomotive that hauled cars along a track was likely Richard Trevithick's predecessor, William Murdoch's predecessor, William Symington's predecessor, or possibly the first person to make a steam-powered locomotive that hauled cars along a track was likely Richard Trevithick's predecessor, William Murdoch's predecessor, William Symington's predecessor, or possibly the first person to make a steam-powered locomotive that hauled cars along a track was likely Richard Trevithick's predecessor, William Murdoch's predecessor, William Symington's predecessor, or possibly the first person to make a steam-powered locomotive that hauled cars along a track was likely Richard Trevithick's predecessor, William Murdoch's predecessor, William Symington's predecessor, or possibly the first person to make a steam-powered locomotive that hauled cars along a track was likely Richard Trevithick's predecessor, William Murdoch's predecessor, William Symington's predecessor, or possibly the first person to make a steam-powered locomotive that hauled cars along a track was likely Richard Trevithick's predecessor, William Murdoch's predecessor, William Symington's predecessor, or possibly the first person to make a steam-powered locomotive that hauled cars along a track was likely Richard Trevithick's predecessor, William Murdoch's predecessor, William Symington's predecessor, or possibly the first person to make a steam-powered locomotive that hauled cars along a track was likely Richard Trevithick's predecessor, William Murdoch's predecessor, William Symington's predecessor, or possibly the first person to make a steam-powered locomotive that hauled cars along a track was likely Richard Trevithick's predecessor, William Murdoch's predecessor, William Symington's predecessor, or possibly the first person to make a steam-powered locomotive that hauled cars along a track was likely Richard Trevithick's predecessor, William Murdoch's predecessor, William Symington's predecessor, or possibly the first person to make a steam-powered locomotive that hauled cars along a track was likely Richard Trevithick's predecessor, William Murdoch's predecessor, William Symington's predecessor, or possibly the first person to make a steam-powered locomotive that hauled cars along a track was likely Richard Trevithick's predecessor, William Murdoch's predecessor, William Symington's predecessor, or possibly the first person to make a steam-powered locomotive that hauled cars along a track was likely Richard Trevithick's predecessor, William Murdoch's predecessor, William Symington's predecessor, or possibly the first person to make a steam-powered locomotive that hauled cars along a track was likely Richard Trevithick's predecessor, William Murdoch's predecessor, William Symington's predecessor, or possibly the first person to make a steam-powered locomotive that hauled cars along a track was likely Richard Trevithick's predecessor, William Murdoch's predecessor, William Symington's predecessor, or possibly the first person to make a steam-powered locomotive that hauled cars along a track was likely Richard Trevithick's predecessor, William Murdoch's predecessor, William Symington's predecessor, or possibly the first person to make a steam-powered locomotive that hauled cars along a track was likely Richard Trevithick's predecessor, William Murdoch's predecessor, William Symington's predecessor, or possibly the first person to make a steam-powered locomotive that hauled cars along a track was likely Richard Trevithick's predecessor, William Murdoch's predecessor, William Symington's predecessor, or possibly the first person to make a steam-powered locomotive that hauled cars along a track was likely Richard Trevithick's predecessor, William Murdoch's predecessor, William Symington's predecessor, or possibly the first person to make a steam-powered locomotive that hauled cars along a track was likely Richard Trevithick's predecessor, William Murdoch's predecessor, William Symington's predecessor, or possibly the first person to make a steam-powered locomotive that hauled cars along a track was likely Richard Trevithick's predecessor, William Murdoch's predecessor, William Symington's predecessor, or possibly the first person to make a steam-powered locomotive that hauled cars along a track was likely Richard Trevithick's predecessor, William Murdoch's predecessor, William Symington's predecessor, or possibly the first person to make a steam-powered locomotive that hauled cars along a track was likely Richard Trevithick's predecessor, William Murdoch's predecessor, William Symington's predecessor, or possibly the first person to make a steam-powered locomotive that hauled cars along a track was likely Richard Trevithick's predecessor, William Murdoch's predecessor, William Symington's predecessor, or possibly the first person to make a steam-powered locomotive that hauled cars along a track was likely Richard Trevithick's predecessor, William Murdoch's predecessor, William Symington's predecessor, or possibly the first person to make a steam-powered locomotive that hauled cars along a track was likely Richard Trevithick's predecessor, William Murdoch's predecessor, William Symington's predecessor, or possibly the first person to make a steam-powered locomotive that hauled cars along a track was likely Richard Trevithick's predecessor, William Murdoch's predecessor, William Symington's predecessor, or possibly the first person to make a steam-powered locomotive that hauled cars along a track was likely Richard Trevithick's predecessor, William Murdoch's predecessor, William Symington's predecessor, or possibly the first person to make a steam-powered locomotive that hauled cars along a track was likely Richard Trevithick's predecessor, William Murdoch's predecessor, William Symington's predecessor, or possibly the first person to make a steam-powered locomotive that hauled cars along a track was likely Richard Trevithick's predecessor, William Murdoch's predecessor, William Symington's predecessor, or possibly the first person to make a steam-powered locomotive that hauled cars along a track was likely Richard Trevithick's predecessor, William Murdoch's predecessor, William Symington's predecessor, or possibly the first person to make a steam-powered locomotive that hauled cars along a track was likely Richard Trevithick's predecessor, William Murdoch's predecessor, William Symington's predecessor, or possibly the first person to make a steam-powered locomotive that hauled cars along a track was likely Richard Trevithick's predecessor, William Murdoch's predecessor, William Symington's predecessor, or possibly the first person to make a steam-powered locomotive that hauled cars along a track was likely Richard Trevithick's predecessor, William Murdoch's predecessor, William Symington's predecessor, or possibly the first person to make a steam-powered locomotive that hauled cars along a track was likely Richard Trevithick's predecessor, William Murdoch's predecessor, William Symington's predecessor, or possibly the first person to make a steam-powered locomotive that hauled cars along a track was likely Richard Trevithick's predecessor, William Murdoch's predecessor, William Symington's predecessor, or possibly the first person to make a steam-powered locomotive that hauled cars along a track was likely Richard Trevithick's predecessor, William Murdoch's predecessor, William Symington's predecessor, or possibly the first person to make a steam-powered locomotive that hauled cars along a track was likely Richard Trevithick's predecessor, William Murdoch's predecessor, William Symington's predecessor, or possibly the first person to make a steam-powered locomotive that hauled cars along a track was likely Richard Trevithick's predecessor, William Murdoch's predecessor, William Symington's predecessor, or possibly the first person to make a steam-powered locomotive that hauled cars along a track was likely Richard Trevithick's predecessor, William Murdoch's predecessor, William Symington's predecessor, or possibly the first person to make a steam-powered locomotive that hauled cars along a track was likely Richard Trevithick's predecessor, William Murdoch's predecessor, William Symington's predecessor, or possibly the first person to make a steam-powered locomotive that hauled cars along a track was likely Richard Trevithick's predecessor, William Murdoch's predecessor, William Symington's predecessor, or possibly the first person to make a steam-powered locomotive that hauled cars along a track was likely Richard Trevithick's predecessor, William Murdoch's predecessor, William Symington's predecessor, or possibly the first person to make a steam-powered locomotive that hauled cars along a track was likely Richard Trevithick's predecessor, William Murdoch's predecessor, William Symington's predecessor, or possibly the first person to make a steam-powered locomotive that hauled cars along a track was likely Richard Trevithick's predecessor, William Murdoch's predecessor, William Symington's predecessor, or possibly the first person to make a steam-powered locomotive that hauled cars along a track was likely Richard Trevithick's predecessor, William Murdoch's predecessor, William Symington's predecessor, or possibly the first person to make a steam-powered locomotive that hauled cars along a track was likely Richard Trevithick's predecessor, William Murdoch's predecessor, William Symington's predecessor, or possibly the first person to make a steam-powered locomotive that hauled cars along a track was likely Richard Trevithick's predecessor, William Murdoch's predecessor, William Symington's predecessor, or possibly the first person to make a steam-powered locomotive that hauled cars along a track was likely Richard Trevithick's predecessor, William Murdoch's predecessor, William Symington's predecessor, or possibly the first person to make a steam-powered locomotive that hauled cars along a track was likely Richard Trevithick's predecessor, William Murdoch's predecessor, William Symington's predecessor, or possibly the first person to make a steam-powered locomotive that hauled cars along a track was likely Richard Trevithick's predecessor, William Murdoch's predecessor, William Symington's predecessor, or possibly the first person to make a steam-powered locomotive that hauled cars along a track was likely Richard Trevithick's predecessor, William Murdoch's predecessor, William Symington's predecessor, or possibly the first person to make a steam-powered locomotive that hauled cars along a track was likely Richard Trevithick's predecessor, William Murdoch's predecessor, William Symington's predecessor, or possibly the first person to make a steam-powered locomotive that hauled cars along a track was likely Richard Trevithick's predecessor, William Murdoch's predecessor, William Symington's predecessor, or possibly the first person to make a steam-powered locomotive that hauled cars along a track was likely Richard Trevithick's predecessor, William Murdoch's predecessor, William Symington's predecessor, or possibly the first person to make a steam-powered locomotive that hauled cars along a track was likely Richard Trevithick's predecessor, William Murdoch's predecessor, William Symington's predecessor, or possibly the first person to make a steam-powered locomotive that hauled cars along a track was likely Richard Trevithick's predecessor, William Murdoch's predecessor, William Symington's predecessor, or possibly the first person to make a steam-powered locomotive that hauled cars along a track was likely Richard Trevithick's predecessor, William Murdoch's predecessor, William Symington's predecessor, or possibly the first person to make a steam-powered locomotive that hauled cars along a track was likely Richard Trevithick's predecessor, William Murdoch's predecessor, William Symington's predecessor, or possibly the first person to make a steam-powered locomotive that hauled cars along a track was likely Richard Trevithick's predecessor, William Murdoch's predecessor, William Symington's predecessor, or possibly the first person to make a steam-powered locomotive that hauled cars along a track was likely Richard Trevithick's predecessor, William Murdoch's predecessor, William Symington's predecessor, or possibly the first person to make a steam-powered locomotive that hauled cars along a track was likely Richard Trevithick's predecessor, William Murdoch's predecessor, William Symington's predecessor, or possibly the first person to make a steam-powered locomotive that hauled cars along a track was likely Richard Trevithick's predecessor, William Murdoch's predecessor, William Symington's predecessor, or possibly the first person to make a steam-powered locomotive that hauled cars along a track was likely Richard Trevithick's predecessor, William Murdoch's predecessor, William Symington's predecessor, or possibly the first person to make a steam-powered locomotive that hauled cars along a track was likely Richard Trevithick's predecessor, William Murdoch's predecessor, William Symington's predecessor, or possibly the first person to make a steam-powered locomotive that hauled cars along a track was likely Richard Trevithick's predecessor, William Murdoch's predecessor, William Symington's predecessor, or possibly the first person to make a steam-powered locomotive that hauled cars along a track was likely Richard Trevithick's predecessor, William Murdoch's predecessor, William Symington's predecessor, or possibly the first person to make a steam-powered locomotive that hauled cars along a track was likely Richard Trevithick's predecessor, William Murdoch's predecessor, William Symington's predecessor, or possibly the first person to make a steam-powered locomotive that hauled cars along a track was likely Richard Trevithick's predecessor, William Murdoch's predecessor, William Symington's predecessor, or possibly the first person to make a steam-powered locomotive that hauled cars along a track was likely Richard Trevithick's predecessor, William Murdoch's predecessor, William Symington's predecessor, or possibly the first person to make a steam-powered locomotive that hauled cars along a track was likely Richard Trevithick's predecessor, William Murdoch's predecessor, William Symington's predecessor, or possibly the first person to make a steam-powered locomotive that hauled cars along a track was likely Richard Trevithick's predecessor, William Murdoch's predecessor, William Symington's predecessor, or possibly the first person to make a steam-powered locomotive that hauled cars along a track was likely Richard Trevithick's predecessor, William Murdoch's predecessor, William Symington's predecessor, or possibly the first person to make a steam-powered locomotive that hauled cars along a track was likely Richard Trevithick's predecessor, William Murdoch's predecessor, William Symington's predecessor, or possibly the first person to make a steam-powered locomotive that hauled cars along a track was likely Richard Trevithick's predecessor, William Murdoch's predecessor, William Symington's predecessor, or possibly the first person to make a steam-powered locomotive that hauled cars along a track was likely Richard Trevithick's predecessor, William Murdoch's predecessor, William Symington's predecessor, or possibly the first person to make a steam-powered locomotive that hauled cars along a track was likely Richard Trevithick's predecessor, William Murdoch's predecessor, William Symington's predecessor, or possibly the first person to make a steam-powered locomotive that hauled cars along a track was likely Richard Trevithick's predecessor, William Murdoch's predecessor, William Symington's predecessor, or possibly the first person to make a steam-powered locomotive that hauled cars along a track was likely Richard Trevithick's predecessor, William Murdoch's predecessor, William Symington's predecessor, or possibly the first person to make a steam-powered locomotive that hauled cars along a track was likely Richard Trevithick's predecessor, William Murdoch's predecessor, William Symington's predecessor, or possibly the first person to make a steam-powered locomotive that hauled cars along a track was likely Richard Trevithick's predecessor, William Murdoch's predecessor, William Symington's predecessor, or possibly the first person to make a steam-powered locomotive that hauled cars along a track was likely Richard Trevithick's predecessor, William Murdoch's predecessor, William Symington's predecessor, or possibly the first person to make a steam-powered locomotive that hauled cars along a track was likely Richard Trevithick's predecessor, William Murdoch's predecessor, William Symington's predecessor, or possibly the first person to make a steam-powered locomotive that hauled cars along a track was likely Richard Trevithick's predecessor, William Murdoch's predecessor, William Symington's predecessor, or possibly the first person to make a steam-powered locomotive that hauled cars along a track was likely Richard Trevithick's predecessor, William Murdoch's predecessor, William Symington's predecessor, or possibly the first person to make a steam-powered locomotive that hauled cars along a track was likely Richard Trevithick's predecessor, William Murdoch's predecessor, William Symington's predecessor, or possibly the first person to make a steam-powered locomotive that hauled cars along a track was likely Richard Trevithick's predecessor, William Murdoch's predecessor, William Symington's predecessor, or possibly the first person to make a steam-powered locomotive that hauled cars along a track was likely Richard Trevithick's predecessor, William Murdoch's predecessor, William Symington's predecessor, or possibly the first person to make a steam-powered locomotive that hauled cars along a track was likely Richard Trevithick's predecessor, William Murdoch's predecessor, William Symington's predecessor, or possibly the first person to make a steam-powered locomotive that hauled cars along a track was likely Richard Trevithick's predecessor, William Murdoch's predecessor, William Symington's predecessor, or possibly the first person to make a steam-powered locomotive that hauled cars along a track was likely Richard Trevithick's predecessor, William Murdoch's predecessor, William Symington's predecessor, or possibly the first person to make a steam-powered locomotive that hauled cars along a track was likely Richard Trevithick's predecessor, William Murdoch's predecessor, William Symington's predecessor, or possibly the first person to make a steam-powered locomotive that hauled cars along a track was likely Richard Trevithick's predecessor, William Murdoch's predecessor, William Symington's predecessor, or possibly the first person to make a steam-powered locomotive that hauled cars along a track was likely Richard Trevithick's predecessor, William Murdoch's predecessor, William Symington's predecessor, or possibly the first person to make a steam-powered locomotive that hauled cars along a track was likely Richard Trevithick's predecessor, William Murdoch's predecessor, William Symington's predecessor, or possibly the first person to make a steam-powered locomotive that hauled cars along a track was likely Richard Trevithick's predecessor, William Murdoch's predecessor, William Symington's predecessor, or possibly the first person to make a steam-powered locomotive that hauled cars along a track was likely Richard Trevithick's predecessor, William Murdoch's predecessor, William Symington's predecessor, or possibly the first person to make a steam-powered locomotive that hauled cars along a track was likely Richard Trevithick's predecessor, William Murdoch's predecessor, William Symington's predecessor, or possibly the first person to make a steam-powered locomotive that hauled cars along a track was likely Richard Trevithick's predecessor, William Murdoch's predecessor, William Symington's predecessor, or possibly the first person to make a steam-powered locomotive that hauled cars along a track was likely Richard Trevithick's predecessor, William Murdoch's predecessor, William Symington's predecessor, or possibly the first person to make a steam-powered locomotive that hauled cars along a track was likely Richard Trevithick's predecessor, William Murdoch's predecessor, William Symington's predecessor, or possibly the first person to make a steam-powered locomotive that hauled cars along a track was likely Richard Trevithick's predecessor, William Murdoch's predecessor, William Symington's predecessor, or possibly the first person to make a steam-powered locomotive that hauled cars along a track was likely Richard Trevithick's predecessor, William Murdoch's predecessor, William Symington's predecessor, or possibly the first person to make a steam-powered locomotive that hauled cars along a track was likely Richard Trevithick's predecessor, William Murdoch's predecessor, William Symington's predecessor, or possibly the first person to make a steam-powered locomotive that hauled cars along a track was likely Richard Trevithick's predecessor, William Murdoch's predecessor, William Symington's predecessor, or possibly the first person to make a steam-powered locomotive that hauled cars along a track was likely Richard Trevithick's predecessor, William Murdoch's predecessor, William Symington's predecessor, or possibly the first person to make a steam-powered locomotive that hauled cars along a track was likely Richard Trevithick's predecessor, William Murdoch's predecessor, William Symington's predecessor, or possibly the first person to make a steam-powered locomotive that hauled cars along a track was likely Richard Trevithick's predecessor, William Murdoch's predecessor, William Symington's predecessor, or possibly the first person to make a steam-powered locomotive that hauled cars along a track was likely Richard Trevithick's predecessor, William Murdoch's predecessor, William Symington's predecessor, or possibly the first person to make a steam-powered locomotive that hauled cars along a track was likely Richard Trevithick's predecessor, William Murdoch's predecessor, William Symington's predecessor, or possibly the first person to make a steam-powered locomotive that hauled cars along a track was likely Richard Trevithick's predecessor, William Murdoch's predecessor, William Symington's predecessor, or possibly the first person to make a steam-powered locomotive that hauled cars along a track was likely Richard Trevithick's predecessor, William Murdoch's predecessor, William Symington's predecessor, or possibly the first person to make a steam-powered locomotive that hauled cars along a track was likely Richard Trevithick's predecessor, William Murdoch's predecessor, William Symington's predecessor, or possibly the first person to make a steam-powered locomotive that hauled cars along a track was likely Richard Trevithick's predecessor, William Murdoch's predecessor, William Symington's predecessor, or possibly the first person to make a steam-powered locomotive that hauled cars along a track was likely Richard Trevithick's predecessor, William Murdoch's predecessor, William Symington's predecessor, or possibly the first person to make a steam-powered locomotive that hauled cars along a track was likely Richard Trevithick's predecessor, William Murdoch's predecessor, William Symington's predecessor, or possibly the first person to make a steam-powered locomotive that hauled cars along a track was likely Richard Trevithick's predecessor, William Murdoch's predecessor, William Symington's predecessor, or possibly the first person to make a steam-powered locomotive that hauled cars along a track was likely Richard Trevithick's predecessor, William Murdoch's predecessor, William Symington's predecessor, or possibly the first person to make a steam-powered locomotive that hauled cars along a track was likely Richard Trevithick's predecessor, William Murdoch's predecessor, William Symington's predecessor, or possibly the first person to make a steam-powered locomotive that hauled cars along a track was likely Richard Trevithick's predecessor, William Murdoch's predecessor, William Symington's predecessor, or possibly the first person to make a steam-powered locomotive that hauled cars along a track was likely Richard Trevithick's predecessor, William Murdoch's predecessor, William Symington's predecessor, or possibly the first person to make a steam-powered locomotive that hauled cars along a track was likely Richard Trevithick's predecessor, William Murdoch's predecessor, William Symington's predecessor, or possibly the first person to make a steam-powered locomotive that hauled cars along a track was likely Richard Trevithick's predecessor, William Murdoch's predecessor, William Symington's predecessor, or possibly the first person to make a steam-powered locomotive that hauled cars along a track was likely Richard Trevithick's predecessor, William Murdoch's predecessor, William Symington's predecessor, or possibly the first person to make a steam-powered locomotive that hauled cars along a track was likely Richard Trevithick's predecessor, William Murdoch's predecessor, William Symington's predecessor, or possibly the first person to make a steam-powered locomotive that hauled cars along a track was likely Richard Trevithick's predecessor, William Murdoch's predecessor, William Symington's predecessor, or possibly the first person to make a steam-powered locomotive that hauled cars along a track was likely Richard Trevithick's predecessor, William Murdoch's predecessor, William Symington's predecessor, or possibly the first person to make a steam-powered locomotive that hauled cars along a track was likely Richard Trevithick's predecessor, William Murdoch's predecessor, William Symington's predecessor, or possibly the first person to make a steam-powered locomotive that hauled cars along a track was likely Richard Trevithick's predecessor, William Murdoch's predecessor, William Symington's predecessor, or possibly the first person to make a steam-powered locomotive that hauled cars along a track was likely Richard Trevithick's predecessor, William Murdoch's predecessor, William Symington's predecessor, or possibly the first person to make a steam-powered locomotive that hauled cars along a track was likely Richard Trevithick's predecessor, William Murdoch's predecessor, William Symington's predecessor, or possibly the first person to make a steam-powered locomotive that hauled cars along a track was likely Richard Trevithick's predecessor, William Murdoch's predecessor, William Symington's predecessor, or possibly the first person to make a steam-powered locomotive that hauled cars along a track was likely Richard Trevithick's predecessor, William Murdoch's predecessor, William Symington's predecessor, or possibly the first person to make a steam-powered locomotive that hauled cars along a track was likely Richard Trevithick's predecessor, William Murdoch's predecessor, William Symington's predecessor, or possibly the first person to make a steam-powered locomotive that hauled cars along a track was likely Richard Trevithick's predecessor, William Murdoch's predecessor, William Symington's predecessor, or possibly the first person to make a steam-powered locomotive that hauled cars along a track was likely Richard Trevithick's predecessor, William Murdoch's predecessor, William Symington's predecessor, or possibly the first person to make a steam-powered locomotive that hauled cars along a track was likely Richard Trevithick's predecessor, William Murdoch's predecessor, William Symington's predecessor, or possibly the first person to make a steam-powered locomotive that hauled cars along a track was likely Richard Trevithick's predecessor, William Murdoch's predecessor, William Symington's predecessor, or possibly the first person to make a steam-powered locomotive that hauled cars along a track was likely Richard Trevithick's predecessor, William Murdoch's predecessor, William Symington's predecessor, or possibly the first person to make a steam-powered locomotive that hauled cars along a track was likely Richard Trevithick's predecessor, William Murdoch's predecessor, William Symington's predecessor, or possibly the first person to make a steam-powered locomotive that hauled cars along a track was likely Richard Trevithick's predecessor, William Murdoch's predecessor, William Symington's predecessor, or possibly the first person to make a steam-powered locomotive that hauled cars along a track was likely Richard Trevithick's predecessor, William Murdoch's predecessor, William Symington's predecessor, or possibly the first person to make a steam-powered locomotive that hauled cars along a track was likely Richard Trevithick's predecessor, William Murdoch's predecessor, William Symington's predecessor, or possibly the first person to make a steam-powered locomotive that hauled cars along a track was likely Richard Trevithick's predecessor, William Murdoch's predecessor, William Symington's predecessor, or possibly the first person to make a steam-powered locomotive that hauled cars along a track was likely Richard Trevithick's predecessor, William Murdoch's predecessor, William Symington's predecessor, or possibly the first person to make a steam-powered locomotive that hauled cars along a track was likely Richard Trevithick's predecessor, William Murdoch's predecessor, William Symington's predecessor, or possibly the first person to make a steam-powered locomotive that hauled cars along a track was likely Richard Trevithick's predecessor, William Murdoch's predecessor, William Symington's predecessor, or possibly the first person to make a steam-powered locomotive that hauled cars along a track was likely Richard Trevithick's predecessor, William Murdoch's predecessor, William Symington's predecessor, or possibly the first person to make a steam-powered locomotive that hauled cars along a track was likely Richard Trevithick's predecessor, William Murdoch's predecessor, William Symington's predecessor, or possibly the first person to make a steam-powered locomotive that hauled cars along a track was likely Richard Trevithick's predecessor, William Murdoch's predecessor, William Symington's predecessor, or possibly the first person to make a steam-powered locomotive that hauled cars along a track was likely Richard Trevithick's predecessor, William Murdoch's predecessor, William Symington's predecessor, or possibly the first person to make a steam-powered locomotive that hauled cars along a track was likely Richard Trevithick's predecessor, William Murdoch's predecessor, William Symington's predecessor, or possibly the first person to make a steam-powered locomotive that hauled cars along a track was likely Richard Trevithick's predecessor, William Murdoch's predecessor, William Symington's predecessor, or possibly the first person to make a steam-powered locomotive that hauled cars along a track was likely Richard Trevithick's predecessor, William Murdoch's predecessor, William Symington's predecessor, or possibly the first person to make a steam-powered locomotive that hauled cars along a track was likely Richard Trevithick's predecessor, William Murdoch's predecessor, William Symington's predecessor, or possibly the first person to make a steam-powered locomotive that hauled cars along a track was likely Richard Trevithick's predecessor, William Murdoch's predecessor, William Symington's predecessor, or possibly the first person to make a steam-powered locomotive that hauled cars along a track was likely Richard Trevithick's predecessor, William Murdoch's predecessor, William Symington's predecessor, or possibly the first person to make a steam-powered locomotive that hauled cars along a track was likely Richard Trevithick's predecessor, William Murdoch's predecessor, William Symington's predecessor, or possibly the first person to make a steam-powered locomotive that hauled cars along a track was likely Richard Trevithick's predecessor, William Murdoch's predecessor, William Symington's predecessor, or possibly the first person to make a steam-powered locomotive that hauled cars along a track was likely Richard Trevithick's predecessor, William Murdoch's predecessor, William Symington's predecessor, or possibly the first person to make a steam-powered locomotive that hauled cars along a track was likely Richard Trevithick's predecessor, William Murdoch's predecessor, William Symington's predecessor, or possibly the first person to make a steam-powered locomotive that hauled cars along a track was likely Richard Trevithick's predecessor, William Murdoch's predecessor, William Symington's predecessor, or possibly the first person to make a steam-powered locomotive that hauled cars along a track was likely Richard Trevithick's predecessor, William Murdoch's predecessor, William Symington's predecessor, or possibly the first person to make a steam-powered locomotive that hauled cars along a track was likely Richard Trevithick's predecessor, William Murdoch's predecessor, William Symington's predecessor, or possibly the first person to make a steam-powered locomotive that hauled cars along a track was likely Richard Trevithick's predecessor, William Murdoch's predecessor, William Symington's predecessor, or possibly the first person to make a steam-powered locomotive that hauled cars along a track was likely Richard Trevithick's predecessor, William Murdoch's predecessor, William Symington's predecessor, or possibly the first person to make a steam-powered locomotive that hauled cars along a track was likely Richard Trevithick's predecessor, William Murdoch's predecessor, William Symington's predecessor, or possibly the first person to make a steam-powered locomotive that hauled cars along a track was likely Richard Trevithick's predecessor, William Murdoch's predecessor, William Symington's predecessor, or possibly the first person to make a steam-powered locomotive that hauled cars along a track was likely Richard Trevithick's predecessor, William Murdoch's predecessor, William Symington's predecessor, or possibly the first person to make a steam-powered locomotive that hauled cars along a track was likely Richard Trevithick's predecessor, William Murdoch's predecessor, William Symington's predecessor, or possibly the first person to make a steam-powered locomotive that hauled cars along a track was likely Richard Trevithick's predecessor, William Murdoch's predecessor, William Symington's predecessor, or possibly the first person to make a steam-powered locomotive that hauled cars along a track was likely Richard\n"
     ]
    }
   ],
   "source": [
    "from langchain_groq import ChatGroq\n",
    "llm = ChatGroq(\n",
    "    temperature=0,\n",
    "    groq_api_key='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',\n",
    "    model_name=\"llama-3.1-70b-versatile\"\n",
    ")\n",
    "\n",
    "response = llm.invoke(\"First person to made the train was ..\")\n",
    "print(response.content)\n"
   ]
  },
  {
   "cell_type": "code",
   "execution_count": 8,
   "id": "63ddef42-6bb5-4817-b374-dec323e6abc1",
   "metadata": {},
   "outputs": [
    {
     "name": "stdout",
     "output_type": "stream",
     "text": [
      "Apply for Supervisor - Las Vegas, NV. (South)\n",
      "\n",
      "Search JobsSkip navigationSearch JobsNIKE, INC. JOBSContract JobsJoin The Talent CommunityLife @ NikeOverviewBenefitsBrandsOverviewJordanConverseTeamsOverviewAdministrative SupportAdvanced InnovationAir Manufacturing InnovationAviationCommunicationsCustomer ServiceDesignDigitalFacilitiesFinance & AccountingGovernment & Public AffairsHuman ResourcesInsights & AnalyticsLegalManufacturing & EngineeringMarketingMerchandisingPlanningPrivacyProcurementProduct Creation, Development & ManagementRetail CorporateRetail StoresSalesSocial & Community ImpactSports MarketingStrategic PlanningSupply Chain, Distribution & LogisticsSustainabilityTechnologyLocationsOverviewNike WHQNike New York HQEHQ: Hilversum, The NetherlandsELC: Laakdal, BelgiumGreater China HQDiversity, Equity & InclusionOverviewMilitary InclusionDisability InclusionIndigenous InclusionInternshipsRetail StoresSupervisor - Las Vegas, NV. (South)Las Vegas, NevadaBecome a Part of the NIKE, Inc. TeamNIKE, Inc. does more than outfit the world’s best athletes. It is a place to explore potential, obliterate boundaries and push out the edges of what can be. The company looks for people who can grow, think, dream and create. Its culture thrives by embracing diversity and rewarding imagination. The brand seeks achievers, leaders and visionaries. At NIKE, Inc. it’s about each person bringing skills and passion to a challenging and constantly evolving game.To work in retail is to be the face of NIKE, Inc. With a relentless focus on product knowledge and customer service, Nike Retail teams give valuable experiences to consumers every day. From Shanghai to San Francisco, every store has a unique perspective and hosts an inspiring community of sport and style devotees. A career in Nike Retail demands creativity and ambition and offers the opportunity to grow with some of the best athletes, teammates and retail partners in the industry.Location & Store Type: Nike Clearance StoreAddress: Las Vegas, NV. (South)Starting Pay Rate: $18.50/hourHours: Full Time – 34-40 hours per week, including nights and weekendsWe believe that if you have a body, you are an athlete, which is why when you join our team as a Retail Supervisor, you are referred to as an Specialist. Are you ready to embrace it? Let’s do it.Lace Up as a Nike Retail Supervisor   As a Nike Retail Supervisor, you’re the face of NIKE.  Enjoy high-volume and a fast pace as your diverse experience and perspective helps guide customers in making the best decisions for them.  You’ll work with your team to focus on customer service and get to the win the right way. When we say team, we mean it. We go after goals together. We support your bold ideas — and encourage you to try them out. You impact our customers' experiences daily. It's more than getting the product from door to floor; it's being part of the first-time customers find their dream pair. Those iconic moments – that's our culture. Bring your just-do-it attitude, and let's be game-changers together. Be Rewarded for a Job Well DoneDiscounts for you and your family from Nike, Converse and Jordan up to 50% offAccrued Paid Time Off and Holiday PayAll full-time and part-time employees working 20 hours or more per week are eligible for 401(k) Plan, CERA, Employee Assistance Program, Mental and Emotional Health, Financial Coaching and Education, Child Development Support and Caregiving Benefits starting on the day you're hiredFull-time and part-time employees working 20 hours or more per week are eligible for Health Savings Accounts and Flexible Savings Accounts after 12 months of continuous employmentThe opportunity to buy Nike stock at a discount through our Employee Stock Purchase Plan (ESPP)Access to support through Optum Employee Assistance Program at no cost for you and your familyTuition Reimbursement up to $5,250 per calendar year for full-time Retail AssociatesPutting Your Best Foot ForwardMust be at least 181 year of retail or consumer service experience preferred Flexibility to work nights, weekends and holidays based on store needsUse customer service authentically to ensure customers feel seen and understood in our storesAbility to learn and train on the latest products and technologiesPhysical requirements include the ability to bend, squat, reach, climb a ladder and stand for extended periods of time with or without reasonable accommodations. What You're Responsible For Being enthusiastic, excited, and knowledgeable about NIKE products and services to best support customer needsBringing your positive attitude and passion to your teammates and customers every dayLead by example and deliver service in line with Nike’s Service Principles to bring the consumer journey to life.Making customers feel welcome, that you care about their wants and needs, and exceed their expectations at every step of their journeyPlaying by the rules and being professional, demonstrating integrity, reliability, and kindnessOperating a cash register, shipping, and receiving duties, stocking products, cleaning and building visual displays with or without accommodationsShowing up for your teammates by attending store eventsNIKE, Inc. is committed to employing a diverse workforce. Qualified applicants will receive consideration without regard to race, color, religion, sex, national origin, age, sexual orientation, gender identity, gender expression, veteran status, or disability. For more information, please refer to Equal Employment Opportunity is The LawNIKE, Inc. is a growth company that looks for team members to grow with it. Nike offers a generous total rewards package, casual work environment, a diverse and inclusive culture, and an electric atmosphere for professional development. No matter the location, or the role, every Nike employee shares one galvanizing mission: To bring inspiration and innovation to every athlete* in the world.NIKE, Inc. is committed to employing a diverse workforce. Qualified applicants will receive consideration without regard to race, color, religion, sex, national origin, age, sexual orientation, gender identity, gender expression, veteran status, or disability.How We HireAt NIKE, Inc. we promise to provide a premium, inclusive, compelling and authentic candidate experience. Delivering on this promise means we allow you to be at your best — and to do that, you need to understand how the hiring process works. Transparency is key.\n",
      "\n",
      "* This overview explains our hiring process for corporate roles. Note there may be different hiring steps involved for non-corporate roles.Start nowBenefitsWhether it’s transportation or financial health, we continually invest in our employees to help them achieve greatness — inside and outside of work. All who work here should be able to realize their full potential.Employee Assistance ProgramHolidaysMedical PlanPaid Time Off (PTO)Product DiscountsLearn moreFIND A STOREBECOME A MEMBERSIGN UP FOR EMAILSEND US FEEDBACKSTUDENT DISCOUNTSGET HELPGET HELPOrder StatusDeliveryReturnsPayment OptionsContact Us On Nike.com InquiriesContact Us On All Other InquiriesABOUT NIKEABOUT NIKENewsCareersInvestorsSustainabilityIndia© 2024 Nike, Inc. All Rights ReservedGuidesNike AdaptNike Air MaxNike FlyleatherNike PegasusNike Zoom FlyNike AirNike FlyEaseNike FreeNike ReactNike ZoomXNike Air Force 1Nike FlyknitNike JoyrideNike VaporflyTerms of SaleTerms of UseNike Privacy Policy\n"
     ]
    }
   ],
   "source": [
    "from langchain_community.document_loaders import WebBaseLoader\n",
    "\n",
    "loader = WebBaseLoader(\"https://jobs.nike.com/job/R-47367\")\n",
    "\n",
    "page_data = loader.load().pop().page_content\n",
    "\n",
    "print(page_data)"
   ]
  },
  {
   "cell_type": "code",
   "execution_count": 11,
   "id": "cf349f21-0855-402a-adf7-3004c4426a99",
   "metadata": {},
   "outputs": [
    {
     "name": "stdout",
     "output_type": "stream",
     "text": [
      "```json\n",
      "{\n",
      "  \"Role\": \"Supervisor - Las Vegas, NV. (South)\",\n",
      "  \"experience\": \"At least 1 year of retail or consumer service experience preferred\",\n",
      "  \"skills\": [\n",
      "    \"Flexibility to work nights, weekends and holidays based on store needs\",\n",
      "    \"Use customer service authentically to ensure customers feel seen and understood in our stores\",\n",
      "    \"Ability to learn and train on the latest products and technologies\",\n",
      "    \"Physical requirements include the ability to bend, squat, reach, climb a ladder and stand for extended periods of time with or without reasonable accommodations\"\n",
      "  ],\n",
      "  \"description\": \"As a Nike Retail Supervisor, you’re the face of NIKE. Enjoy high-volume and a fast pace as your diverse experience and perspective helps guide customers in making the best decisions for them. You’ll work with your team to focus on customer service and get to the win the right way.\"\n",
      "}\n",
      "```\n"
     ]
    }
   ],
   "source": [
    "from langchain_core.prompts import PromptTemplate\n",
    "\n",
    "prompt_extract = PromptTemplate.from_template(\n",
    "    \"\"\"\n",
    "    ### SCRAPED TEXT FROM WEBSITE\n",
    "    {page_data}\n",
    "    ### INSTRUCTION\n",
    "    The scrapped text is from the Career's page of a website\n",
    "    Your job is to extract the job posting and return them in JSON format containing the \n",
    "    following Keys: 'Role', 'experience', 'skills' and 'description'\n",
    "    only return the valid JSON\n",
    "    ### VALID JSON (NO PREAMBLE)\n",
    "    \"\"\"\n",
    "\n",
    ")\n",
    "\n",
    "chain_extract = prompt_extract | llm\n",
    "res =  chain_extract.invoke(input={\"page_data\":page_data})\n",
    "print(res.content)"
   ]
  },
  {
   "cell_type": "code",
   "execution_count": 28,
   "id": "7523b637",
   "metadata": {},
   "outputs": [
    {
     "data": {
      "text/plain": [
       "{'Role': 'Supervisor - Las Vegas, NV. (South)',\n",
       " 'experience': 'At least 1 year of retail or consumer service experience preferred',\n",
       " 'skills': ['Flexibility to work nights, weekends and holidays based on store needs',\n",
       "  'Use customer service authentically to ensure customers feel seen and understood in our stores',\n",
       "  'Ability to learn and train on the latest products and technologies',\n",
       "  'Physical requirements include the ability to bend, squat, reach, climb a ladder and stand for extended periods of time with or without reasonable accommodations'],\n",
       " 'description': 'As a Nike Retail Supervisor, you’re the face of NIKE. Enjoy high-volume and a fast pace as your diverse experience and perspective helps guide customers in making the best decisions for them. You’ll work with your team to focus on customer service and get to the win the right way.'}"
      ]
     },
     "execution_count": 28,
     "metadata": {},
     "output_type": "execute_result"
    }
   ],
   "source": [
    "job"
   ]
  },
  {
   "cell_type": "code",
   "execution_count": 20,
   "id": "c034f42a",
   "metadata": {},
   "outputs": [
    {
     "data": {
      "text/plain": [
       "{'Role': 'Supervisor - Las Vegas, NV. (South)',\n",
       " 'experience': 'At least 1 year of retail or consumer service experience preferred',\n",
       " 'skills': ['Flexibility to work nights, weekends and holidays based on store needs',\n",
       "  'Use customer service authentically to ensure customers feel seen and understood in our stores',\n",
       "  'Ability to learn and train on the latest products and technologies',\n",
       "  'Physical requirements include the ability to bend, squat, reach, climb a ladder and stand for extended periods of time with or without reasonable accommodations'],\n",
       " 'description': 'As a Nike Retail Supervisor, you’re the face of NIKE. Enjoy high-volume and a fast pace as your diverse experience and perspective helps guide customers in making the best decisions for them. You’ll work with your team to focus on customer service and get to the win the right way.'}"
      ]
     },
     "execution_count": 20,
     "metadata": {},
     "output_type": "execute_result"
    }
   ],
   "source": [
    "from langchain_core.output_parsers import JsonOutputParser\n",
    "\n",
    "json_parser = JsonOutputParser()\n",
    "json_res = json_parser.parse(res.content)\n",
    "json_res\n"
   ]
  },
  {
   "cell_type": "code",
   "execution_count": 14,
   "id": "abafa0b9",
   "metadata": {},
   "outputs": [
    {
     "data": {
      "text/html": [
       "<div>\n",
       "<style scoped>\n",
       "    .dataframe tbody tr th:only-of-type {\n",
       "        vertical-align: middle;\n",
       "    }\n",
       "\n",
       "    .dataframe tbody tr th {\n",
       "        vertical-align: top;\n",
       "    }\n",
       "\n",
       "    .dataframe thead th {\n",
       "        text-align: right;\n",
       "    }\n",
       "</style>\n",
       "<table border=\"1\" class=\"dataframe\">\n",
       "  <thead>\n",
       "    <tr style=\"text-align: right;\">\n",
       "      <th></th>\n",
       "      <th>Techstack</th>\n",
       "      <th>Links</th>\n",
       "    </tr>\n",
       "  </thead>\n",
       "  <tbody>\n",
       "    <tr>\n",
       "      <th>0</th>\n",
       "      <td>React, Node.js, MongoDB</td>\n",
       "      <td>https://example.com/react-portfolio</td>\n",
       "    </tr>\n",
       "    <tr>\n",
       "      <th>1</th>\n",
       "      <td>Angular,.NET, SQL Server</td>\n",
       "      <td>https://example.com/angular-portfolio</td>\n",
       "    </tr>\n",
       "    <tr>\n",
       "      <th>2</th>\n",
       "      <td>Vue.js, Ruby on Rails, PostgreSQL</td>\n",
       "      <td>https://example.com/vue-portfolio</td>\n",
       "    </tr>\n",
       "    <tr>\n",
       "      <th>3</th>\n",
       "      <td>Python, Django, MySQL</td>\n",
       "      <td>https://example.com/python-portfolio</td>\n",
       "    </tr>\n",
       "    <tr>\n",
       "      <th>4</th>\n",
       "      <td>Java, Spring Boot, Oracle</td>\n",
       "      <td>https://example.com/java-portfolio</td>\n",
       "    </tr>\n",
       "    <tr>\n",
       "      <th>5</th>\n",
       "      <td>Flutter, Firebase, GraphQL</td>\n",
       "      <td>https://example.com/flutter-portfolio</td>\n",
       "    </tr>\n",
       "    <tr>\n",
       "      <th>6</th>\n",
       "      <td>WordPress, PHP, MySQL</td>\n",
       "      <td>https://example.com/wordpress-portfolio</td>\n",
       "    </tr>\n",
       "    <tr>\n",
       "      <th>7</th>\n",
       "      <td>Magento, PHP, MySQL</td>\n",
       "      <td>https://example.com/magento-portfolio</td>\n",
       "    </tr>\n",
       "    <tr>\n",
       "      <th>8</th>\n",
       "      <td>React Native, Node.js, MongoDB</td>\n",
       "      <td>https://example.com/react-native-portfolio</td>\n",
       "    </tr>\n",
       "    <tr>\n",
       "      <th>9</th>\n",
       "      <td>iOS, Swift, Core Data</td>\n",
       "      <td>https://example.com/ios-portfolio</td>\n",
       "    </tr>\n",
       "    <tr>\n",
       "      <th>10</th>\n",
       "      <td>Android, Java, Room Persistence</td>\n",
       "      <td>https://example.com/android-portfolio</td>\n",
       "    </tr>\n",
       "    <tr>\n",
       "      <th>11</th>\n",
       "      <td>Kotlin, Android, Firebase</td>\n",
       "      <td>https://example.com/kotlin-android-portfolio</td>\n",
       "    </tr>\n",
       "    <tr>\n",
       "      <th>12</th>\n",
       "      <td>Android TV, Kotlin, Android NDK</td>\n",
       "      <td>https://example.com/android-tv-portfolio</td>\n",
       "    </tr>\n",
       "    <tr>\n",
       "      <th>13</th>\n",
       "      <td>iOS, Swift, ARKit</td>\n",
       "      <td>https://example.com/ios-ar-portfolio</td>\n",
       "    </tr>\n",
       "    <tr>\n",
       "      <th>14</th>\n",
       "      <td>Cross-platform, Xamarin, Azure</td>\n",
       "      <td>https://example.com/xamarin-portfolio</td>\n",
       "    </tr>\n",
       "    <tr>\n",
       "      <th>15</th>\n",
       "      <td>Backend, Kotlin, Spring Boot</td>\n",
       "      <td>https://example.com/kotlin-backend-portfolio</td>\n",
       "    </tr>\n",
       "    <tr>\n",
       "      <th>16</th>\n",
       "      <td>Frontend, TypeScript, Angular</td>\n",
       "      <td>https://example.com/typescript-frontend-portfolio</td>\n",
       "    </tr>\n",
       "    <tr>\n",
       "      <th>17</th>\n",
       "      <td>Full-stack, JavaScript, Express.js</td>\n",
       "      <td>https://example.com/full-stack-js-portfolio</td>\n",
       "    </tr>\n",
       "    <tr>\n",
       "      <th>18</th>\n",
       "      <td>Machine Learning, Python, TensorFlow</td>\n",
       "      <td>https://example.com/ml-python-portfolio</td>\n",
       "    </tr>\n",
       "    <tr>\n",
       "      <th>19</th>\n",
       "      <td>DevOps, Jenkins, Docker</td>\n",
       "      <td>https://example.com/devops-portfolio</td>\n",
       "    </tr>\n",
       "  </tbody>\n",
       "</table>\n",
       "</div>"
      ],
      "text/plain": [
       "                               Techstack  \\\n",
       "0                React, Node.js, MongoDB   \n",
       "1               Angular,.NET, SQL Server   \n",
       "2      Vue.js, Ruby on Rails, PostgreSQL   \n",
       "3                  Python, Django, MySQL   \n",
       "4              Java, Spring Boot, Oracle   \n",
       "5             Flutter, Firebase, GraphQL   \n",
       "6                  WordPress, PHP, MySQL   \n",
       "7                    Magento, PHP, MySQL   \n",
       "8         React Native, Node.js, MongoDB   \n",
       "9                  iOS, Swift, Core Data   \n",
       "10       Android, Java, Room Persistence   \n",
       "11             Kotlin, Android, Firebase   \n",
       "12       Android TV, Kotlin, Android NDK   \n",
       "13                     iOS, Swift, ARKit   \n",
       "14        Cross-platform, Xamarin, Azure   \n",
       "15          Backend, Kotlin, Spring Boot   \n",
       "16         Frontend, TypeScript, Angular   \n",
       "17    Full-stack, JavaScript, Express.js   \n",
       "18  Machine Learning, Python, TensorFlow   \n",
       "19               DevOps, Jenkins, Docker   \n",
       "\n",
       "                                                Links  \n",
       "0                 https://example.com/react-portfolio  \n",
       "1               https://example.com/angular-portfolio  \n",
       "2                   https://example.com/vue-portfolio  \n",
       "3                https://example.com/python-portfolio  \n",
       "4                  https://example.com/java-portfolio  \n",
       "5               https://example.com/flutter-portfolio  \n",
       "6             https://example.com/wordpress-portfolio  \n",
       "7               https://example.com/magento-portfolio  \n",
       "8          https://example.com/react-native-portfolio  \n",
       "9                   https://example.com/ios-portfolio  \n",
       "10              https://example.com/android-portfolio  \n",
       "11       https://example.com/kotlin-android-portfolio  \n",
       "12           https://example.com/android-tv-portfolio  \n",
       "13               https://example.com/ios-ar-portfolio  \n",
       "14              https://example.com/xamarin-portfolio  \n",
       "15       https://example.com/kotlin-backend-portfolio  \n",
       "16  https://example.com/typescript-frontend-portfolio  \n",
       "17        https://example.com/full-stack-js-portfolio  \n",
       "18            https://example.com/ml-python-portfolio  \n",
       "19               https://example.com/devops-portfolio  "
      ]
     },
     "execution_count": 14,
     "metadata": {},
     "output_type": "execute_result"
    }
   ],
   "source": [
    "import pandas as pd\n",
    "\n",
    "df = pd.read_csv(\"my_portfolio.csv\")\n",
    "df"
   ]
  },
  {
   "cell_type": "code",
   "execution_count": null,
   "id": "4e371f20",
   "metadata": {},
   "outputs": [],
   "source": [
    "import uuid\n",
    "import chromadb\n",
    "client = chromadb.PersistentClient('vectorstore')\n",
    "collection = client.get_or_create_collection(name=\"portfolio\")\n",
    "\n",
    "if not collection.count():\n",
    "    for _, row in df.iterrows():\n",
    "        collection.add(\n",
    "            documents=row['Techstack'],\n",
    "            metadatas={\"links\": row[\"Links\"]},\n",
    "            ids=[str(uuid.uuid4())]\n",
    "        )\n"
   ]
  },
  {
   "cell_type": "code",
   "execution_count": 26,
   "id": "eb6680ee",
   "metadata": {},
   "outputs": [
    {
     "data": {
      "text/plain": [
       "[]"
      ]
     },
     "execution_count": 26,
     "metadata": {},
     "output_type": "execute_result"
    }
   ],
   "source": [
    "links = collection.query(query_texts=job['skills'], n_results=2).get('metadata',[])\n",
    "links"
   ]
  },
  {
   "cell_type": "code",
   "execution_count": 22,
   "id": "19630429",
   "metadata": {},
   "outputs": [
    {
     "data": {
      "text/plain": [
       "['Flexibility to work nights, weekends and holidays based on store needs',\n",
       " 'Use customer service authentically to ensure customers feel seen and understood in our stores',\n",
       " 'Ability to learn and train on the latest products and technologies',\n",
       " 'Physical requirements include the ability to bend, squat, reach, climb a ladder and stand for extended periods of time with or without reasonable accommodations']"
      ]
     },
     "execution_count": 22,
     "metadata": {},
     "output_type": "execute_result"
    }
   ],
   "source": [
    "job = json_res\n",
    "job['skills']"
   ]
  },
  {
   "cell_type": "code",
   "execution_count": 31,
   "id": "0f5ba34b",
   "metadata": {},
   "outputs": [
    {
     "name": "stdout",
     "output_type": "stream",
     "text": [
      "Subject: Unlocking Exceptional Customer Experience with ATLIQ's AI-Powered Solutions\n",
      "\n",
      "Dear Hiring Manager,\n",
      "\n",
      "I hope this email finds you well. As a Generative AI enthusiast at ATLIQ, I came across the job description for a Supervisor at Nike's Las Vegas store, and I'm excited to introduce you to our company's capabilities in empowering retail businesses like yours.\n",
      "\n",
      "At ATLIQ, we understand the importance of delivering exceptional customer experiences, and our AI-powered solutions can help you achieve just that. With our expertise in developing tailored solutions for numerous enterprises, we're confident that our technology can support your team in providing top-notch service to your customers.\n",
      "\n",
      "Our solutions can help you:\n",
      "\n",
      "* Enhance customer engagement through personalized interactions\n",
      "* Streamline operations and improve efficiency\n",
      "* Analyze customer data to inform product recommendations and promotions\n",
      "* Develop AI-powered chatbots to provide 24/7 support\n",
      "\n",
      "Our portfolio showcases our success in empowering retail businesses, including:\n",
      "\n",
      "* [Link to relevant portfolio piece 1: AI-powered chatbot for customer support]\n",
      "* [Link to relevant portfolio piece 2: Personalized product recommendation engine]\n",
      "* [Link to relevant portfolio piece 3: Retail analytics platform for data-driven decision-making]\n",
      "\n",
      "Our team at ATLIQ is passionate about helping businesses like Nike leverage the power of AI to drive growth and customer satisfaction. I'd love to schedule a call to discuss how our solutions can support your team in achieving their goals.\n",
      "\n",
      "Please let me know if you're interested in learning more about our capabilities.\n",
      "\n",
      "Best regards,\n",
      "\n",
      "Aditya\n",
      "Generative AI Enthusiast\n",
      "ATLIQ\n",
      "[Your Email Address]\n",
      "[Your Phone Number]\n"
     ]
    }
   ],
   "source": [
    "prompt_email = PromptTemplate.from_template(\n",
    "        \"\"\"\n",
    "        ###JOB DESCRIPTION:\n",
    "        {Job_description}\n",
    "\n",
    "        ### INSTRUCTION:\n",
    "        You are Aditya, a Generative AI enthusiast and working at ATLIQ, Atliq is an AI and software consulting Company,\n",
    "        over our experience, we have empowered numorous enterprises with tailored solutions.\n",
    "        Your job is to write a cold email to the client regarding the job mentioned above describing the capability\n",
    "        in fulfilling their needs.\n",
    "        also add the most relevant ones from the from the following links to showcase atliq's portfolio: {link_list}\n",
    "\n",
    "        Remember you are Aditya, Generative AI enthusisat working at ATLIQ\n",
    "        ### EMAIL (NO PREAMBLE):\n",
    "\n",
    "        \"\"\"\n",
    "\n",
    "        \n",
    ")\n",
    "\n",
    "\n",
    "chain_email = prompt_email | llm\n",
    "res = chain_email.invoke({\"Job_description\": str(job), \"link_list\": links})\n",
    "print(res.content)\n"
   ]
  },
  {
   "cell_type": "code",
   "execution_count": null,
   "id": "04a2dfe6",
   "metadata": {},
   "outputs": [],
   "source": []
  }
 ],
 "metadata": {
  "kernelspec": {
   "display_name": "Python 3",
   "language": "python",
   "name": "python3"
  },
  "language_info": {
   "codemirror_mode": {
    "name": "ipython",
    "version": 3
   },
   "file_extension": ".py",
   "mimetype": "text/x-python",
   "name": "python",
   "nbconvert_exporter": "python",
   "pygments_lexer": "ipython3",
   "version": "3.11.4"
  }
 },
 "nbformat": 4,
 "nbformat_minor": 5
}
